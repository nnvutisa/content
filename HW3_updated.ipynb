{
 "cells": [
  {
   "cell_type": "markdown",
   "metadata": {
    "deletable": true,
    "editable": true
   },
   "source": [
    "# Homework 3. Bayesian Tomatoes"
   ]
  },
  {
   "cell_type": "markdown",
   "metadata": {
    "deletable": true,
    "editable": true
   },
   "source": [
    "<span style=\"color:red\">Rotten Tomatoes does not provide free API keys anymore. I am adjusting the original homework to use TMDB API instead. </span>"
   ]
  },
  {
   "cell_type": "markdown",
   "metadata": {
    "deletable": true,
    "editable": true
   },
   "source": [
    "In this assignment, you'll be analyzing movie reviews from TMDB (www.themoviedb.org). This assignment will cover:\n",
    "\n",
    " * Working with web APIs\n",
    " * Making and interpreting predictions from a Bayesian perspective\n",
    " * Using the Naive Bayes algorithm to predict whether a movie review is positive or negative\n",
    " * Using cross validation to optimize models\n",
    "\n",
    "Useful libraries for this assignment\n",
    "\n",
    "* [numpy](http://docs.scipy.org/doc/numpy-dev/user/index.html), for arrays\n",
    "* [scikit-learn](http://scikit-learn.org/stable/), for machine learning\n",
    "* [json](http://docs.python.org/2/library/json.html) for parsing JSON data from the web.\n",
    "* [pandas](http://pandas.pydata.org/), for data frames\n",
    "* [matplotlib](http://matplotlib.org/), for plotting\n",
    "* [requests](http://docs.python-requests.org/en/latest/), for downloading web content"
   ]
  },
  {
   "cell_type": "code",
   "execution_count": 1,
   "metadata": {
    "collapsed": false,
    "deletable": true,
    "editable": true
   },
   "outputs": [
    {
     "name": "stderr",
     "output_type": "stream",
     "text": [
      "/Users/pear/anaconda/lib/python2.7/site-packages/matplotlib/__init__.py:872: UserWarning: axes.color_cycle is deprecated and replaced with axes.prop_cycle; please use the latter.\n",
      "  warnings.warn(self.msg_depr % (key, alt_key))\n"
     ]
    }
   ],
   "source": [
    "%matplotlib inline\n",
    "\n",
    "import json\n",
    "\n",
    "import requests\n",
    "import pandas as pd\n",
    "import numpy as np\n",
    "import matplotlib.pyplot as plt\n",
    "import time\n",
    "import sys\n",
    "\n",
    "pd.set_option('display.width', 500)\n",
    "pd.set_option('display.max_columns', 30)\n",
    "\n",
    "# set some nicer defaults for matplotlib\n",
    "from matplotlib import rcParams\n",
    "\n",
    "#these colors come from colorbrewer2.org. Each is an RGB triplet\n",
    "dark2_colors = [(0.10588235294117647, 0.6196078431372549, 0.4666666666666667),\n",
    "                (0.8509803921568627, 0.37254901960784315, 0.00784313725490196),\n",
    "                (0.4588235294117647, 0.4392156862745098, 0.7019607843137254),\n",
    "                (0.9058823529411765, 0.1607843137254902, 0.5411764705882353),\n",
    "                (0.4, 0.6509803921568628, 0.11764705882352941),\n",
    "                (0.9019607843137255, 0.6705882352941176, 0.00784313725490196),\n",
    "                (0.6509803921568628, 0.4627450980392157, 0.11372549019607843),\n",
    "                (0.4, 0.4, 0.4)]\n",
    "\n",
    "rcParams['figure.figsize'] = (10, 6)\n",
    "rcParams['figure.dpi'] = 150\n",
    "rcParams['axes.color_cycle'] = dark2_colors\n",
    "rcParams['lines.linewidth'] = 2\n",
    "rcParams['axes.grid'] = False\n",
    "rcParams['axes.facecolor'] = 'white'\n",
    "rcParams['font.size'] = 14\n",
    "rcParams['patch.edgecolor'] = 'none'\n",
    "\n",
    "\n",
    "def remove_border(axes=None, top=False, right=False, left=True, bottom=True):\n",
    "    \"\"\"\n",
    "    Minimize chartjunk by stripping out unnecessary plot borders and axis ticks\n",
    "    \n",
    "    The top/right/left/bottom keywords toggle whether the corresponding plot border is drawn\n",
    "    \"\"\"\n",
    "    ax = axes or plt.gca()\n",
    "    ax.spines['top'].set_visible(top)\n",
    "    ax.spines['right'].set_visible(right)\n",
    "    ax.spines['left'].set_visible(left)\n",
    "    ax.spines['bottom'].set_visible(bottom)\n",
    "    \n",
    "    #turn off all ticks\n",
    "    ax.yaxis.set_ticks_position('none')\n",
    "    ax.xaxis.set_ticks_position('none')\n",
    "    \n",
    "    #now re-enable visibles\n",
    "    if top:\n",
    "        ax.xaxis.tick_top()\n",
    "    if bottom:\n",
    "        ax.xaxis.tick_bottom()\n",
    "    if left:\n",
    "        ax.yaxis.tick_left()\n",
    "    if right:\n",
    "        ax.yaxis.tick_right()"
   ]
  },
  {
   "cell_type": "markdown",
   "metadata": {
    "deletable": true,
    "editable": true
   },
   "source": [
    "## Introduction\n",
    "\n",
    "This basic task of categorizing text has many applications. All of the following questions boil down to text classification:\n",
    "\n",
    " * Is a movie review positive or negative?\n",
    " * Is an email spam, or not?\n",
    " * Is a comment on a blog discussion board appropriate, or not?\n",
    " * Is a tweet about your company positive, or not?\n",
    " \n",
    "\n",
    "Language is incredibly nuanced, and there is an entire field of computer science dedicated to the topic (Natural Language Processing). Nevertheless, we can construct basic language models using fairly straightforward techniques. \n",
    "\n",
    "## The Data\n",
    "\n",
    "You will be starting with a database of Movies, derived from the MovieLens dataset. This dataset includes information for about 10,000 movies, including the IMDB id for each movie. \n",
    "\n",
    "Your first task is to download TMDB reviews from 3000 of these movies, using the API (Application Programming Interface)."
   ]
  },
  {
   "cell_type": "markdown",
   "metadata": {
    "deletable": true,
    "editable": true
   },
   "source": [
    "### Working with Web APIs\n",
    "Web APIs are a more convenient way for programs to interact with websites. TMDB has a nice API that gives access to its data in JSON format.\n",
    "\n",
    "To use this, you will first need to create an account and register for an API key.\n",
    "\n",
    "After you have a key, the documentation page (https://developers.themoviedb.org/3/getting-started) shows the various data you can fetch. The basic pattern for fetching this data with Python is as follows:"
   ]
  },
  {
   "cell_type": "code",
   "execution_count": 2,
   "metadata": {
    "collapsed": true,
    "deletable": true,
    "editable": true
   },
   "outputs": [],
   "source": [
    "base_url = \"https://api.themoviedb.org/3/\""
   ]
  },
  {
   "cell_type": "code",
   "execution_count": 3,
   "metadata": {
    "collapsed": false,
    "deletable": true,
    "editable": true
   },
   "outputs": [
    {
     "name": "stdout",
     "output_type": "stream",
     "text": [
      "\"It\"\n"
     ]
    }
   ],
   "source": [
    "# General movie info\n",
    "\n",
    "api_key = \"fa1c1ad70969d2a07cb831bfc0e1f819\"\n",
    "movie_id = \"346364\"\n",
    "url = \"https://api.themoviedb.org/3/movie/%s\" %movie_id\n",
    "\n",
    "payload = {\"api_key\":api_key}\n",
    "data = requests.request(\"GET\", url, data=payload).text\n",
    "data = json.loads(data) # load a json string into a collection of lists and dicts\n",
    "\n",
    "print json.dumps(data['title'], indent=2)  # dump an object into a json string"
   ]
  },
  {
   "cell_type": "code",
   "execution_count": 4,
   "metadata": {
    "collapsed": false,
    "deletable": true,
    "editable": true
   },
   "outputs": [
    {
     "name": "stdout",
     "output_type": "stream",
     "text": [
      "{\n",
      "  \"content\": \"\\\"Skarsg\\u00e5rd goes to hell and back to craft a truly malevolent creation, utterly believable as the black soul of King\\u2019s cursed small town...\\\"\\r\\n\\r\\nRead the full review here: http://screen-space.squarespace.com/reviews/2017/9/6/it.html\", \n",
      "  \"url\": \"https://www.themoviedb.org/review/59afaa2cc3a3682e6401064f\", \n",
      "  \"id\": \"59afaa2cc3a3682e6401064f\", \n",
      "  \"author\": \"Screen-Space\"\n",
      "}\n"
     ]
    }
   ],
   "source": [
    "# Reviews\n",
    "\n",
    "url = \"https://api.themoviedb.org/3/movie/%s/reviews\" %movie_id\n",
    "\n",
    "payload = {\"api_key\":api_key, \"page\":1}\n",
    "data = requests.request(\"GET\", url, data=payload).text\n",
    "data = json.loads(data)\n",
    "\n",
    "print json.dumps(data['results'][0], indent=2)"
   ]
  },
  {
   "cell_type": "markdown",
   "metadata": {
    "deletable": true,
    "editable": true
   },
   "source": [
    "## Part 1: Get the data\n",
    "Here's a chunk of the MovieLens Dataset:"
   ]
  },
  {
   "cell_type": "code",
   "execution_count": 2,
   "metadata": {
    "collapsed": false,
    "deletable": true,
    "editable": true
   },
   "outputs": [
    {
     "data": {
      "text/plain": [
       "id                1\n",
       "title     Toy story\n",
       "imdbID       114709\n",
       "year           1995\n",
       "Name: 0, dtype: object"
      ]
     },
     "execution_count": 2,
     "metadata": {},
     "output_type": "execute_result"
    }
   ],
   "source": [
    "from io import StringIO  \n",
    "movie_txt = requests.get('https://raw.github.com/cs109/cs109_data/master/movies.dat').text\n",
    "movie_file = StringIO(movie_txt) # treat a string like a file\n",
    "movies = pd.read_csv(movie_file, delimiter='\\t')\n",
    "\n",
    "# print the first row\n",
    "movies[['id', 'title', 'imdbID', 'year']].iloc[0]"
   ]
  },
  {
   "cell_type": "code",
   "execution_count": 21,
   "metadata": {
    "collapsed": false,
    "deletable": true,
    "editable": true
   },
   "outputs": [
    {
     "data": {
      "text/html": [
       "<div>\n",
       "<style>\n",
       "    .dataframe thead tr:only-child th {\n",
       "        text-align: right;\n",
       "    }\n",
       "\n",
       "    .dataframe thead th {\n",
       "        text-align: left;\n",
       "    }\n",
       "\n",
       "    .dataframe tbody tr th {\n",
       "        vertical-align: top;\n",
       "    }\n",
       "</style>\n",
       "<table border=\"1\" class=\"dataframe\">\n",
       "  <thead>\n",
       "    <tr style=\"text-align: right;\">\n",
       "      <th></th>\n",
       "      <th>id</th>\n",
       "      <th>title</th>\n",
       "      <th>imdbID</th>\n",
       "      <th>spanishTitle</th>\n",
       "      <th>imdbPictureURL</th>\n",
       "      <th>year</th>\n",
       "      <th>rtID</th>\n",
       "      <th>rtAllCriticsRating</th>\n",
       "      <th>rtAllCriticsNumReviews</th>\n",
       "      <th>rtAllCriticsNumFresh</th>\n",
       "      <th>rtAllCriticsNumRotten</th>\n",
       "      <th>rtAllCriticsScore</th>\n",
       "      <th>rtTopCriticsRating</th>\n",
       "      <th>rtTopCriticsNumReviews</th>\n",
       "      <th>rtTopCriticsNumFresh</th>\n",
       "      <th>rtTopCriticsNumRotten</th>\n",
       "      <th>rtTopCriticsScore</th>\n",
       "      <th>rtAudienceRating</th>\n",
       "      <th>rtAudienceNumRatings</th>\n",
       "      <th>rtAudienceScore</th>\n",
       "      <th>rtPictureURL</th>\n",
       "    </tr>\n",
       "  </thead>\n",
       "  <tbody>\n",
       "    <tr>\n",
       "      <th>0</th>\n",
       "      <td>1</td>\n",
       "      <td>Toy story</td>\n",
       "      <td>114709</td>\n",
       "      <td>Toy story (juguetes)</td>\n",
       "      <td>http://ia.media-imdb.com/images/M/MV5BMTMwNDU0...</td>\n",
       "      <td>1995</td>\n",
       "      <td>toy_story</td>\n",
       "      <td>9</td>\n",
       "      <td>73</td>\n",
       "      <td>73</td>\n",
       "      <td>0</td>\n",
       "      <td>100</td>\n",
       "      <td>8.5</td>\n",
       "      <td>17</td>\n",
       "      <td>17</td>\n",
       "      <td>0</td>\n",
       "      <td>100</td>\n",
       "      <td>3.7</td>\n",
       "      <td>102338</td>\n",
       "      <td>81</td>\n",
       "      <td>http://content7.flixster.com/movie/10/93/63/10...</td>\n",
       "    </tr>\n",
       "    <tr>\n",
       "      <th>1</th>\n",
       "      <td>2</td>\n",
       "      <td>Jumanji</td>\n",
       "      <td>113497</td>\n",
       "      <td>Jumanji</td>\n",
       "      <td>http://ia.media-imdb.com/images/M/MV5BMzM5NjE1...</td>\n",
       "      <td>1995</td>\n",
       "      <td>1068044-jumanji</td>\n",
       "      <td>5.6</td>\n",
       "      <td>28</td>\n",
       "      <td>13</td>\n",
       "      <td>15</td>\n",
       "      <td>46</td>\n",
       "      <td>5.8</td>\n",
       "      <td>5</td>\n",
       "      <td>2</td>\n",
       "      <td>3</td>\n",
       "      <td>40</td>\n",
       "      <td>3.2</td>\n",
       "      <td>44587</td>\n",
       "      <td>61</td>\n",
       "      <td>http://content8.flixster.com/movie/56/79/73/56...</td>\n",
       "    </tr>\n",
       "    <tr>\n",
       "      <th>2</th>\n",
       "      <td>3</td>\n",
       "      <td>Grumpy Old Men</td>\n",
       "      <td>107050</td>\n",
       "      <td>Dos viejos gruñones</td>\n",
       "      <td>http://ia.media-imdb.com/images/M/MV5BMTI5MTgy...</td>\n",
       "      <td>1993</td>\n",
       "      <td>grumpy_old_men</td>\n",
       "      <td>5.9</td>\n",
       "      <td>36</td>\n",
       "      <td>24</td>\n",
       "      <td>12</td>\n",
       "      <td>66</td>\n",
       "      <td>7</td>\n",
       "      <td>6</td>\n",
       "      <td>5</td>\n",
       "      <td>1</td>\n",
       "      <td>83</td>\n",
       "      <td>3.2</td>\n",
       "      <td>10489</td>\n",
       "      <td>66</td>\n",
       "      <td>http://content6.flixster.com/movie/25/60/25602...</td>\n",
       "    </tr>\n",
       "    <tr>\n",
       "      <th>3</th>\n",
       "      <td>4</td>\n",
       "      <td>Waiting to Exhale</td>\n",
       "      <td>114885</td>\n",
       "      <td>Esperando un respiro</td>\n",
       "      <td>http://ia.media-imdb.com/images/M/MV5BMTczMTMy...</td>\n",
       "      <td>1995</td>\n",
       "      <td>waiting_to_exhale</td>\n",
       "      <td>5.6</td>\n",
       "      <td>25</td>\n",
       "      <td>14</td>\n",
       "      <td>11</td>\n",
       "      <td>56</td>\n",
       "      <td>5.5</td>\n",
       "      <td>11</td>\n",
       "      <td>5</td>\n",
       "      <td>6</td>\n",
       "      <td>45</td>\n",
       "      <td>3.3</td>\n",
       "      <td>5666</td>\n",
       "      <td>79</td>\n",
       "      <td>http://content9.flixster.com/movie/10/94/17/10...</td>\n",
       "    </tr>\n",
       "    <tr>\n",
       "      <th>4</th>\n",
       "      <td>5</td>\n",
       "      <td>Father of the Bride Part II</td>\n",
       "      <td>113041</td>\n",
       "      <td>Vuelve el padre de la novia (Ahora también abu...</td>\n",
       "      <td>http://ia.media-imdb.com/images/M/MV5BMTg1NDc2...</td>\n",
       "      <td>1995</td>\n",
       "      <td>father_of_the_bride_part_ii</td>\n",
       "      <td>5.3</td>\n",
       "      <td>19</td>\n",
       "      <td>9</td>\n",
       "      <td>10</td>\n",
       "      <td>47</td>\n",
       "      <td>5.4</td>\n",
       "      <td>5</td>\n",
       "      <td>1</td>\n",
       "      <td>4</td>\n",
       "      <td>20</td>\n",
       "      <td>3</td>\n",
       "      <td>13761</td>\n",
       "      <td>64</td>\n",
       "      <td>http://content8.flixster.com/movie/25/54/25542...</td>\n",
       "    </tr>\n",
       "  </tbody>\n",
       "</table>\n",
       "</div>"
      ],
      "text/plain": [
       "   id                        title  imdbID                                       spanishTitle                                     imdbPictureURL  year                         rtID rtAllCriticsRating rtAllCriticsNumReviews rtAllCriticsNumFresh rtAllCriticsNumRotten rtAllCriticsScore rtTopCriticsRating rtTopCriticsNumReviews rtTopCriticsNumFresh rtTopCriticsNumRotten rtTopCriticsScore rtAudienceRating rtAudienceNumRatings rtAudienceScore                                       rtPictureURL\n",
       "0   1                    Toy story  114709                               Toy story (juguetes)  http://ia.media-imdb.com/images/M/MV5BMTMwNDU0...  1995                    toy_story                  9                     73                   73                     0               100                8.5                     17                   17                     0               100              3.7               102338              81  http://content7.flixster.com/movie/10/93/63/10...\n",
       "1   2                      Jumanji  113497                                            Jumanji  http://ia.media-imdb.com/images/M/MV5BMzM5NjE1...  1995              1068044-jumanji                5.6                     28                   13                    15                46                5.8                      5                    2                     3                40              3.2                44587              61  http://content8.flixster.com/movie/56/79/73/56...\n",
       "2   3               Grumpy Old Men  107050                                Dos viejos gruñones  http://ia.media-imdb.com/images/M/MV5BMTI5MTgy...  1993               grumpy_old_men                5.9                     36                   24                    12                66                  7                      6                    5                     1                83              3.2                10489              66  http://content6.flixster.com/movie/25/60/25602...\n",
       "3   4            Waiting to Exhale  114885                               Esperando un respiro  http://ia.media-imdb.com/images/M/MV5BMTczMTMy...  1995            waiting_to_exhale                5.6                     25                   14                    11                56                5.5                     11                    5                     6                45              3.3                 5666              79  http://content9.flixster.com/movie/10/94/17/10...\n",
       "4   5  Father of the Bride Part II  113041  Vuelve el padre de la novia (Ahora también abu...  http://ia.media-imdb.com/images/M/MV5BMTg1NDc2...  1995  father_of_the_bride_part_ii                5.3                     19                    9                    10                47                5.4                      5                    1                     4                20                3                13761              64  http://content8.flixster.com/movie/25/54/25542..."
      ]
     },
     "execution_count": 21,
     "metadata": {},
     "output_type": "execute_result"
    }
   ],
   "source": [
    "movies.head()"
   ]
  },
  {
   "cell_type": "code",
   "execution_count": 22,
   "metadata": {
    "collapsed": false,
    "deletable": true,
    "editable": true
   },
   "outputs": [
    {
     "data": {
      "text/plain": [
       "(9423, 21)"
      ]
     },
     "execution_count": 22,
     "metadata": {},
     "output_type": "execute_result"
    }
   ],
   "source": [
    "movies.shape"
   ]
  },
  {
   "cell_type": "markdown",
   "metadata": {
    "deletable": true,
    "editable": true
   },
   "source": [
    "#### P1.1\n",
    "\n",
    "We'd like you to write a function that looks up the first page of the TMDB reviews for a movie in the `movies` dataframe. This involves two steps:\n",
    "\n",
    "1. Use the `Find` API (/find/{external_id}) to look up the TMDB movie id from the IMDB id\n",
    "1. Use the `Reviews` API to fetch the first page reviews for this movie\n",
    "\n",
    "Not all movies have TMDB IDs. In these cases, your function should return `None`. The detailed spec is below. We are giving you some freedom with how you implement this, but you'll probably want to break this task up into several small functions.\n",
    "\n",
    "**Hint**\n",
    "In some situations, the leading 0s in front of IMDB ids are important. IMDB ids have 7 digits and starts with string 'tt'."
   ]
  },
  {
   "cell_type": "code",
   "execution_count": 5,
   "metadata": {
    "collapsed": true,
    "deletable": true,
    "editable": true
   },
   "outputs": [],
   "source": [
    "\"\"\"\n",
    "Function\n",
    "--------\n",
    "fetch_reviews(movies, row)\n",
    "\n",
    "Use the TMDB web API to fetch reviews for a particular movie\n",
    "\n",
    "Parameters\n",
    "----------\n",
    "movies : DataFrame \n",
    "  The movies data above\n",
    "row : int\n",
    "  The row of the movies DataFrame to use\n",
    "  \n",
    "Returns\n",
    "-------\n",
    "If you can match the IMDB id to a TMDB ID:\n",
    "  A DataFrame, containing the first page reviews \n",
    "  for the movie. \n",
    "  This should have the following columns:\n",
    "    critic : Name of the critic\n",
    "    fresh  : 'fresh' or 'rotten'\n",
    "    imdb   : IMDB id for the movie\n",
    "    publication: Publication that the critic writes for\n",
    "    quote  : string containing the movie review quote\n",
    "    review_data: Date of review\n",
    "    rtid   : Rotten Tomatoes ID for the movie\n",
    "    title  : Name of the movie\n",
    "    \n",
    "If you cannot match the IMDB id to a TMDB ID, return None\n",
    "\n",
    "Examples\n",
    "--------\n",
    ">>> reviews = fetch_reviews(movies, 0)\n",
    ">>> print len(reviews)\n",
    "20\n",
    ">>> print reviews.irow(1)\n",
    "critic                                               Derek Adams\n",
    "fresh                                                      fresh\n",
    "imdb                                                      114709\n",
    "publication                                             Time Out\n",
    "quote          So ingenious in concept, design and execution ...\n",
    "review_date                                           2009-10-04\n",
    "rtid                                                        9559\n",
    "title                                                  Toy story\n",
    "Name: 1, dtype: object\n",
    "\"\"\"\n",
    "#your code here\n",
    "\n",
    "def get_tmdb_id(imdb_id):\n",
    "    \n",
    "    # check if the imdb_id is in the correct format\n",
    "    imdb_id = 'tt'+'0'*(7-len(str(imdb_id)))+str(imdb_id)\n",
    "    \n",
    "    # find TMDB movie ID\n",
    "    url = \"https://api.themoviedb.org/3/find/%s\" %imdb_id\n",
    "    payload = {\"api_key\":api_key, \"external_source\":\"imdb_id\"}\n",
    "    data_text = requests.request(\"GET\", url, data=payload).text\n",
    "    data = json.loads(data_text)\n",
    "    \n",
    "    try:\n",
    "        tmdb_id = data['movie_results'][0]['id']\n",
    "    except:\n",
    "        tmdb_id = None\n",
    "    \n",
    "    return tmdb_id\n",
    "        \n",
    "\n",
    "def fetch_reviews(movies, row):\n",
    "    \n",
    "    # get the IMDB ID\n",
    "    imdb_id = movies['imdbID'].iloc[row]\n",
    "    title = movies['title'].iloc[row]\n",
    "    \n",
    "    # get the tmdb_id\n",
    "    tmdb_id = get_tmdb_id(imdb_id)\n",
    "    \n",
    "    if tmdb_id:\n",
    "        # get the first page reviews\n",
    "        url = \"https://api.themoviedb.org/3/movie/%s/reviews\" %tmdb_id\n",
    "        payload = {'api_key':api_key, 'page':1}\n",
    "        data = requests.request(\"GET\", url, data=payload).text\n",
    "        data = json.loads(data)\n",
    "        reviews = pd.DataFrame(data['results'])\n",
    "        if not reviews.empty:\n",
    "            reviews['imdb_id'] = imdb_id \n",
    "            reviews['tmdb_id'] = tmdb_id\n",
    "            reviews['title'] = title\n",
    "        else:\n",
    "            reviews = None\n",
    "    else:\n",
    "        reviews = None\n",
    "    \n",
    "    return reviews\n"
   ]
  },
  {
   "cell_type": "code",
   "execution_count": 30,
   "metadata": {
    "collapsed": false,
    "deletable": true,
    "editable": true
   },
   "outputs": [
    {
     "data": {
      "text/plain": [
       "862"
      ]
     },
     "execution_count": 30,
     "metadata": {},
     "output_type": "execute_result"
    }
   ],
   "source": [
    "get_tmdb_id(114709)"
   ]
  },
  {
   "cell_type": "code",
   "execution_count": 6,
   "metadata": {
    "collapsed": false,
    "deletable": true,
    "editable": true
   },
   "outputs": [],
   "source": [
    "imdb_id = 'tt0000439'\n",
    "\n",
    "url = \"https://api.themoviedb.org/3/find/%s\" %imdb_id\n",
    "payload = {\"api_key\":api_key, \"external_source\":\"imdb_id\"}\n",
    "data_text = requests.request(\"GET\", url, data=payload).text\n",
    "data = json.loads(data_text)"
   ]
  },
  {
   "cell_type": "code",
   "execution_count": 23,
   "metadata": {
    "collapsed": false,
    "deletable": true,
    "editable": true
   },
   "outputs": [
    {
     "data": {
      "text/plain": [
       "5698"
      ]
     },
     "execution_count": 23,
     "metadata": {},
     "output_type": "execute_result"
    }
   ],
   "source": [
    "data['movie_results'][0]['id']"
   ]
  },
  {
   "cell_type": "code",
   "execution_count": 7,
   "metadata": {
    "collapsed": true,
    "deletable": true,
    "editable": true
   },
   "outputs": [],
   "source": [
    "movie_id = '346364'\n",
    "url = \"https://api.themoviedb.org/3/movie/%s/reviews\" %movie_id\n",
    "\n",
    "payload = {'api_key':api_key, 'page':1}\n",
    "data = requests.request(\"GET\", url, data=payload).text\n",
    "data = json.loads(data)"
   ]
  },
  {
   "cell_type": "code",
   "execution_count": 8,
   "metadata": {
    "collapsed": false,
    "deletable": true,
    "editable": true
   },
   "outputs": [
    {
     "data": {
      "text/plain": [
       "{u'id': 346364,\n",
       " u'page': 1,\n",
       " u'results': [{u'author': u'Screen-Space',\n",
       "   u'content': u'\"Skarsg\\xe5rd goes to hell and back to craft a truly malevolent creation, utterly believable as the black soul of King\\u2019s cursed small town...\"\\r\\n\\r\\nRead the full review here: http://screen-space.squarespace.com/reviews/2017/9/6/it.html',\n",
       "   u'id': u'59afaa2cc3a3682e6401064f',\n",
       "   u'url': u'https://www.themoviedb.org/review/59afaa2cc3a3682e6401064f'},\n",
       "  {u'author': u'Nay Myo Myat Ko',\n",
       "   u'content': u\"**This movie went right to the trash.** I cannot believe what Warner Bros has done for this piece of trash.\\r\\nYes, there have been rave reviews for this movie, but we recommend that you do not mind them, as we should not be teaching children on how to safely get sodomized by a monster.\\r\\n\\r\\nThese directors' brains are also in the trash. Now let's put the MPAA R rating right into the trash where it is supposed to go. Final warning: **Don't let your kids watch trash.**\",\n",
       "   u'id': u'59bfb66c9251414745014240',\n",
       "   u'url': u'https://www.themoviedb.org/review/59bfb66c9251414745014240'},\n",
       "  {u'author': u'Gimly',\n",
       "   u'content': u'More _Fucked-Up-Coming-of-Age_ than _Monster-Movie-Slasher-Horror_. Which is what it should be, but perhaps not what it\\'s marketed to be. Stephen King\\'s _It_ is one of my all time favourite books, and I don\\'t know that it will ever get a faithful adaptation (totally understandable seeing as the thing is 1200 pages and contains a multi-book spanning mythology of Space Gods and Turtle vomit), but this does a pretty good job of interpreting the feeling of the novel, even if it\\'s not a great adaptation the events as a whole.\\r\\n\\r\\nThe kids are all great, Skarsg\\xe5rd makes for a good Pennywise, Pennywise improves as the piece moves forward, and the town is completely believable as \"Derry\" in the \\'80s. It may not be all it\\'s purported to be, but is a very impressive film on its own merits.\\r\\n\\r\\n_Final rating:\\u2605\\u2605\\u2605\\xbd - I really liked it. Would strongly recommend you give it your time._',\n",
       "   u'id': u'59c098eac3a36804db00aeb6',\n",
       "   u'url': u'https://www.themoviedb.org/review/59c098eac3a36804db00aeb6'},\n",
       "  {u'author': u'Rythwik',\n",
       "   u'content': u\"If you are gonna watch this movie go to the theatres and watch it...It's way more scarier than Annabelle: Creation and you will have lots of jump scares too.\",\n",
       "   u'id': u'59c711d19251415b5404ecef',\n",
       "   u'url': u'https://www.themoviedb.org/review/59c711d19251415b5404ecef'}],\n",
       " u'total_pages': 1,\n",
       " u'total_results': 4}"
      ]
     },
     "execution_count": 8,
     "metadata": {},
     "output_type": "execute_result"
    }
   ],
   "source": [
    "data"
   ]
  },
  {
   "cell_type": "code",
   "execution_count": 9,
   "metadata": {
    "collapsed": false,
    "deletable": true,
    "editable": true
   },
   "outputs": [],
   "source": [
    "reviews = pd.DataFrame(data['results'])"
   ]
  },
  {
   "cell_type": "code",
   "execution_count": 12,
   "metadata": {
    "collapsed": false,
    "deletable": true,
    "editable": true
   },
   "outputs": [
    {
     "data": {
      "text/html": [
       "<div>\n",
       "<style>\n",
       "    .dataframe thead tr:only-child th {\n",
       "        text-align: right;\n",
       "    }\n",
       "\n",
       "    .dataframe thead th {\n",
       "        text-align: left;\n",
       "    }\n",
       "\n",
       "    .dataframe tbody tr th {\n",
       "        vertical-align: top;\n",
       "    }\n",
       "</style>\n",
       "<table border=\"1\" class=\"dataframe\">\n",
       "  <thead>\n",
       "    <tr style=\"text-align: right;\">\n",
       "      <th></th>\n",
       "      <th>author</th>\n",
       "      <th>content</th>\n",
       "      <th>id</th>\n",
       "      <th>url</th>\n",
       "      <th>imdb_id</th>\n",
       "    </tr>\n",
       "  </thead>\n",
       "  <tbody>\n",
       "    <tr>\n",
       "      <th>0</th>\n",
       "      <td>Screen-Space</td>\n",
       "      <td>\"Skarsgård goes to hell and back to craft a tr...</td>\n",
       "      <td>59afaa2cc3a3682e6401064f</td>\n",
       "      <td>https://www.themoviedb.org/review/59afaa2cc3a3...</td>\n",
       "      <td>tt0000439</td>\n",
       "    </tr>\n",
       "    <tr>\n",
       "      <th>1</th>\n",
       "      <td>Nay Myo Myat Ko</td>\n",
       "      <td>**This movie went right to the trash.** I cann...</td>\n",
       "      <td>59bfb66c9251414745014240</td>\n",
       "      <td>https://www.themoviedb.org/review/59bfb66c9251...</td>\n",
       "      <td>tt0000439</td>\n",
       "    </tr>\n",
       "    <tr>\n",
       "      <th>2</th>\n",
       "      <td>Gimly</td>\n",
       "      <td>More _Fucked-Up-Coming-of-Age_ than _Monster-M...</td>\n",
       "      <td>59c098eac3a36804db00aeb6</td>\n",
       "      <td>https://www.themoviedb.org/review/59c098eac3a3...</td>\n",
       "      <td>tt0000439</td>\n",
       "    </tr>\n",
       "    <tr>\n",
       "      <th>3</th>\n",
       "      <td>Rythwik</td>\n",
       "      <td>If you are gonna watch this movie go to the th...</td>\n",
       "      <td>59c711d19251415b5404ecef</td>\n",
       "      <td>https://www.themoviedb.org/review/59c711d19251...</td>\n",
       "      <td>tt0000439</td>\n",
       "    </tr>\n",
       "  </tbody>\n",
       "</table>\n",
       "</div>"
      ],
      "text/plain": [
       "            author                                            content                        id                                                url    imdb_id\n",
       "0     Screen-Space  \"Skarsgård goes to hell and back to craft a tr...  59afaa2cc3a3682e6401064f  https://www.themoviedb.org/review/59afaa2cc3a3...  tt0000439\n",
       "1  Nay Myo Myat Ko  **This movie went right to the trash.** I cann...  59bfb66c9251414745014240  https://www.themoviedb.org/review/59bfb66c9251...  tt0000439\n",
       "2            Gimly  More _Fucked-Up-Coming-of-Age_ than _Monster-M...  59c098eac3a36804db00aeb6  https://www.themoviedb.org/review/59c098eac3a3...  tt0000439\n",
       "3          Rythwik  If you are gonna watch this movie go to the th...  59c711d19251415b5404ecef  https://www.themoviedb.org/review/59c711d19251...  tt0000439"
      ]
     },
     "execution_count": 12,
     "metadata": {},
     "output_type": "execute_result"
    }
   ],
   "source": [
    "reviews"
   ]
  },
  {
   "cell_type": "markdown",
   "metadata": {
    "deletable": true,
    "editable": true
   },
   "source": [
    "#### P1.2\n",
    "\n",
    "Use the function you wrote to retrieve reviews for the first 3,000 movies in the movies dataframe.\n",
    "\n",
    "##### Hints\n",
    "* Be careful about the request limit! (40 requests every 10 seconds). Test your code on smaller inputs before scaling. You are responsible if you hit the limit the day the assignment is due :)\n",
    "* This will take a while to download. If you don't want to re-run this function every time you restart the notebook, you can save and re-load this data as a CSV file. However, please don't submit this file"
   ]
  },
  {
   "cell_type": "code",
   "execution_count": 6,
   "metadata": {
    "collapsed": true,
    "deletable": true,
    "editable": true
   },
   "outputs": [],
   "source": [
    "\"\"\"\n",
    "Function\n",
    "--------\n",
    "build_table\n",
    "\n",
    "Parameters\n",
    "----------\n",
    "movies : DataFrame\n",
    "  The movies data above\n",
    "rows : int\n",
    "  The number of rows to extract reviews for\n",
    "  \n",
    "Returns\n",
    "--------\n",
    "A dataframe\n",
    "  The data obtained by repeatedly calling `fetch_reviews` on the first `rows`\n",
    "  of `movies`, discarding the `None`s,\n",
    "  and concatenating the results into a single DataFrame\n",
    "\"\"\"\n",
    "#your code here\n",
    "\n",
    "def build_table(movies, rows):\n",
    "    reviews = pd.DataFrame(columns=['imdb_id','tmdb_id','title','author','content','id','url'])\n",
    "    \n",
    "    for i in xrange(rows):\n",
    "        review = fetch_reviews(movies,i)\n",
    "        time.sleep(0.5)\n",
    "        if not (review is None):\n",
    "            reviews = pd.concat([reviews,review],axis=0)\n",
    "            \n",
    "        # print progress\n",
    "        print i,'\\r',\n",
    "        sys.stdout.flush()\n",
    "            \n",
    "    return reviews.reset_index(drop=True)\n",
    "        "
   ]
  },
  {
   "cell_type": "code",
   "execution_count": 72,
   "metadata": {
    "collapsed": false,
    "deletable": true,
    "editable": true
   },
   "outputs": [
    {
     "name": "stdout",
     "output_type": "stream",
     "text": [
      "19 \r"
     ]
    }
   ],
   "source": [
    "#checking \n",
    "\n",
    "critics = build_table(movies,20)"
   ]
  },
  {
   "cell_type": "code",
   "execution_count": 73,
   "metadata": {
    "collapsed": false,
    "deletable": true,
    "editable": true
   },
   "outputs": [
    {
     "data": {
      "text/html": [
       "<div>\n",
       "<style>\n",
       "    .dataframe thead tr:only-child th {\n",
       "        text-align: right;\n",
       "    }\n",
       "\n",
       "    .dataframe thead th {\n",
       "        text-align: left;\n",
       "    }\n",
       "\n",
       "    .dataframe tbody tr th {\n",
       "        vertical-align: top;\n",
       "    }\n",
       "</style>\n",
       "<table border=\"1\" class=\"dataframe\">\n",
       "  <thead>\n",
       "    <tr style=\"text-align: right;\">\n",
       "      <th></th>\n",
       "      <th>author</th>\n",
       "      <th>content</th>\n",
       "      <th>id</th>\n",
       "      <th>imdb_id</th>\n",
       "      <th>title</th>\n",
       "      <th>tmdb_id</th>\n",
       "      <th>url</th>\n",
       "    </tr>\n",
       "  </thead>\n",
       "  <tbody>\n",
       "    <tr>\n",
       "      <th>0</th>\n",
       "      <td>John Chard</td>\n",
       "      <td>Do me a favour. Put your lip over your head......</td>\n",
       "      <td>5424aec90e0a263b74004629</td>\n",
       "      <td>107050</td>\n",
       "      <td>Grumpy Old Men</td>\n",
       "      <td>11520</td>\n",
       "      <td>https://www.themoviedb.org/review/5424aec90e0a...</td>\n",
       "    </tr>\n",
       "    <tr>\n",
       "      <th>1</th>\n",
       "      <td>John Chard</td>\n",
       "      <td>You don't live with me, you live among the rem...</td>\n",
       "      <td>5510d7769251415c960007f3</td>\n",
       "      <td>113277</td>\n",
       "      <td>Heat</td>\n",
       "      <td>949</td>\n",
       "      <td>https://www.themoviedb.org/review/5510d7769251...</td>\n",
       "    </tr>\n",
       "    <tr>\n",
       "      <th>2</th>\n",
       "      <td>Gimly</td>\n",
       "      <td>Partly I'm disappointed in myself for taking s...</td>\n",
       "      <td>59337e49c3a3685a24014d42</td>\n",
       "      <td>113277</td>\n",
       "      <td>Heat</td>\n",
       "      <td>949</td>\n",
       "      <td>https://www.themoviedb.org/review/59337e49c3a3...</td>\n",
       "    </tr>\n",
       "    <tr>\n",
       "      <th>3</th>\n",
       "      <td>talisencrw</td>\n",
       "      <td>Most probably my least favourite film, both of...</td>\n",
       "      <td>57ec2169c3a3687e1f000111</td>\n",
       "      <td>112896</td>\n",
       "      <td>Dracula: Dead and Loving It</td>\n",
       "      <td>12110</td>\n",
       "      <td>https://www.themoviedb.org/review/57ec2169c3a3...</td>\n",
       "    </tr>\n",
       "    <tr>\n",
       "      <th>4</th>\n",
       "      <td>talisencrw</td>\n",
       "      <td>Not as bad as it's notoriously condemned as be...</td>\n",
       "      <td>573f961ac3a36808ac0003a7</td>\n",
       "      <td>112760</td>\n",
       "      <td>Cutthroat Island</td>\n",
       "      <td>1408</td>\n",
       "      <td>https://www.themoviedb.org/review/573f961ac3a3...</td>\n",
       "    </tr>\n",
       "  </tbody>\n",
       "</table>\n",
       "</div>"
      ],
      "text/plain": [
       "       author                                            content                        id imdb_id                        title tmdb_id                                                url\n",
       "0  John Chard  Do me a favour. Put your lip over your head......  5424aec90e0a263b74004629  107050               Grumpy Old Men   11520  https://www.themoviedb.org/review/5424aec90e0a...\n",
       "1  John Chard  You don't live with me, you live among the rem...  5510d7769251415c960007f3  113277                         Heat     949  https://www.themoviedb.org/review/5510d7769251...\n",
       "2       Gimly  Partly I'm disappointed in myself for taking s...  59337e49c3a3685a24014d42  113277                         Heat     949  https://www.themoviedb.org/review/59337e49c3a3...\n",
       "3  talisencrw  Most probably my least favourite film, both of...  57ec2169c3a3687e1f000111  112896  Dracula: Dead and Loving It   12110  https://www.themoviedb.org/review/57ec2169c3a3...\n",
       "4  talisencrw  Not as bad as it's notoriously condemned as be...  573f961ac3a36808ac0003a7  112760             Cutthroat Island    1408  https://www.themoviedb.org/review/573f961ac3a3..."
      ]
     },
     "execution_count": 73,
     "metadata": {},
     "output_type": "execute_result"
    }
   ],
   "source": [
    "critics"
   ]
  },
  {
   "cell_type": "code",
   "execution_count": 3,
   "metadata": {
    "collapsed": false,
    "deletable": true,
    "editable": true
   },
   "outputs": [],
   "source": [
    "#you can toggle which lines are commented, if you\n",
    "#want to re-load your results to avoid repeatedly calling this function\n",
    "\n",
    "#critics = build_table(movies, 3000)\n",
    "#critics.to_csv('critics.csv', index=False, encoding='utf-8')\n",
    "critics = pd.read_csv('data_hw3/critics_rt.csv')"
   ]
  },
  {
   "cell_type": "code",
   "execution_count": 21,
   "metadata": {
    "collapsed": false,
    "deletable": true,
    "editable": true
   },
   "outputs": [
    {
     "data": {
      "text/html": [
       "<div>\n",
       "<style>\n",
       "    .dataframe thead tr:only-child th {\n",
       "        text-align: right;\n",
       "    }\n",
       "\n",
       "    .dataframe thead th {\n",
       "        text-align: left;\n",
       "    }\n",
       "\n",
       "    .dataframe tbody tr th {\n",
       "        vertical-align: top;\n",
       "    }\n",
       "</style>\n",
       "<table border=\"1\" class=\"dataframe\">\n",
       "  <thead>\n",
       "    <tr style=\"text-align: right;\">\n",
       "      <th></th>\n",
       "      <th>critic</th>\n",
       "      <th>date</th>\n",
       "      <th>fresh</th>\n",
       "      <th>imdb</th>\n",
       "      <th>original_score</th>\n",
       "      <th>publication</th>\n",
       "      <th>quote</th>\n",
       "      <th>review_date</th>\n",
       "      <th>rt_id</th>\n",
       "      <th>title</th>\n",
       "    </tr>\n",
       "  </thead>\n",
       "  <tbody>\n",
       "    <tr>\n",
       "      <th>0</th>\n",
       "      <td>Derek Adams</td>\n",
       "      <td>2009-10-04</td>\n",
       "      <td>fresh</td>\n",
       "      <td>114709</td>\n",
       "      <td>5/5</td>\n",
       "      <td>Time Out</td>\n",
       "      <td>So ingenious in concept, design and execution ...</td>\n",
       "      <td>http://www.timeout.com/film/reviews/87745/toy-...</td>\n",
       "      <td>9559</td>\n",
       "      <td>Toy Story</td>\n",
       "    </tr>\n",
       "    <tr>\n",
       "      <th>1</th>\n",
       "      <td>Richard Corliss</td>\n",
       "      <td>2008-08-31</td>\n",
       "      <td>fresh</td>\n",
       "      <td>114709</td>\n",
       "      <td>NaN</td>\n",
       "      <td>TIME Magazine</td>\n",
       "      <td>The year's most inventive comedy.</td>\n",
       "      <td>http://www.time.com/time/magazine/article/0,91...</td>\n",
       "      <td>9559</td>\n",
       "      <td>Toy Story</td>\n",
       "    </tr>\n",
       "    <tr>\n",
       "      <th>2</th>\n",
       "      <td>David Ansen</td>\n",
       "      <td>2008-08-18</td>\n",
       "      <td>fresh</td>\n",
       "      <td>114709</td>\n",
       "      <td>NaN</td>\n",
       "      <td>Newsweek</td>\n",
       "      <td>A winning animated feature that has something ...</td>\n",
       "      <td>http://www.newsweek.com/id/104199</td>\n",
       "      <td>9559</td>\n",
       "      <td>Toy Story</td>\n",
       "    </tr>\n",
       "    <tr>\n",
       "      <th>3</th>\n",
       "      <td>Leonard Klady</td>\n",
       "      <td>2008-06-09</td>\n",
       "      <td>fresh</td>\n",
       "      <td>114709</td>\n",
       "      <td>NaN</td>\n",
       "      <td>Variety</td>\n",
       "      <td>The film sports a provocative and appealing st...</td>\n",
       "      <td>http://www.variety.com/review/VE1117941294.htm...</td>\n",
       "      <td>9559</td>\n",
       "      <td>Toy Story</td>\n",
       "    </tr>\n",
       "    <tr>\n",
       "      <th>4</th>\n",
       "      <td>Jonathan Rosenbaum</td>\n",
       "      <td>2008-03-10</td>\n",
       "      <td>fresh</td>\n",
       "      <td>114709</td>\n",
       "      <td>NaN</td>\n",
       "      <td>Chicago Reader</td>\n",
       "      <td>An entertaining computer-generated, hyperreali...</td>\n",
       "      <td>http://onfilm.chicagoreader.com/movies/capsule...</td>\n",
       "      <td>9559</td>\n",
       "      <td>Toy Story</td>\n",
       "    </tr>\n",
       "  </tbody>\n",
       "</table>\n",
       "</div>"
      ],
      "text/plain": [
       "               critic        date  fresh    imdb original_score     publication                                              quote                                        review_date  rt_id      title\n",
       "0         Derek Adams  2009-10-04  fresh  114709            5/5        Time Out  So ingenious in concept, design and execution ...  http://www.timeout.com/film/reviews/87745/toy-...   9559  Toy Story\n",
       "1     Richard Corliss  2008-08-31  fresh  114709            NaN   TIME Magazine                  The year's most inventive comedy.  http://www.time.com/time/magazine/article/0,91...   9559  Toy Story\n",
       "2         David Ansen  2008-08-18  fresh  114709            NaN        Newsweek  A winning animated feature that has something ...                  http://www.newsweek.com/id/104199   9559  Toy Story\n",
       "3       Leonard Klady  2008-06-09  fresh  114709            NaN         Variety  The film sports a provocative and appealing st...  http://www.variety.com/review/VE1117941294.htm...   9559  Toy Story\n",
       "4  Jonathan Rosenbaum  2008-03-10  fresh  114709            NaN  Chicago Reader  An entertaining computer-generated, hyperreali...  http://onfilm.chicagoreader.com/movies/capsule...   9559  Toy Story"
      ]
     },
     "execution_count": 21,
     "metadata": {},
     "output_type": "execute_result"
    }
   ],
   "source": [
    "critics.head()"
   ]
  },
  {
   "cell_type": "markdown",
   "metadata": {
    "collapsed": true,
    "deletable": true,
    "editable": true
   },
   "source": [
    "## Part 2: Explore\n",
    "\n",
    "<span style=\"color:red\">We are switching to archived reviews data from RT since TMDB does not have enought reviews. </span>\n",
    "\n",
    "Before delving into analysis, get a sense of what these data look like. Answer the following questions. Include your code!"
   ]
  },
  {
   "cell_type": "markdown",
   "metadata": {
    "deletable": true,
    "editable": true
   },
   "source": [
    "**2.1** How many reviews, critics, and movies are in this dataset?\n"
   ]
  },
  {
   "cell_type": "code",
   "execution_count": 22,
   "metadata": {
    "collapsed": false,
    "deletable": true,
    "editable": true
   },
   "outputs": [
    {
     "name": "stdout",
     "output_type": "stream",
     "text": [
      "Number of reviews : 15610\n",
      "Number of critics : 621\n",
      "Number of movies : 1931\n"
     ]
    }
   ],
   "source": [
    "print 'Number of reviews :', len(critics)\n",
    "print 'Number of critics :', critics['critic'].nunique()\n",
    "print 'Number of movies :', critics['imdb'].nunique()"
   ]
  },
  {
   "cell_type": "markdown",
   "metadata": {
    "deletable": true,
    "editable": true
   },
   "source": [
    "**2.2** What does the distribution of number of reviews per reviewer look like? Make a histogram"
   ]
  },
  {
   "cell_type": "code",
   "execution_count": 26,
   "metadata": {
    "collapsed": false,
    "deletable": true,
    "editable": true
   },
   "outputs": [
    {
     "data": {
      "text/plain": [
       "(0, 100)"
      ]
     },
     "execution_count": 26,
     "metadata": {},
     "output_type": "execute_result"
    },
    {
     "data": {
      "image/png": "[encoded data removed]",
      "text/plain": [
       "<matplotlib.figure.Figure at 0x1242ec290>"
      ]
     },
     "metadata": {},
     "output_type": "display_data"
    }
   ],
   "source": [
    "ax = critics['critic'].value_counts().plot.hist(bins=100)\n",
    "ax.set_xlim(0,100)"
   ]
  },
  {
   "cell_type": "markdown",
   "metadata": {
    "deletable": true,
    "editable": true
   },
   "source": [
    "**2.3** List the 5 critics with the most reviews, along with the publication they write for"
   ]
  },
  {
   "cell_type": "code",
   "execution_count": 40,
   "metadata": {
    "collapsed": false,
    "deletable": true,
    "editable": true
   },
   "outputs": [
    {
     "name": "stdout",
     "output_type": "stream",
     "text": [
      " Roger Ebert 1138\n",
      " publications : ['Chicago Sun-Times' 'At the Movies']\n",
      "James Berardinelli 806\n",
      " publications : ['ReelViews']\n",
      "Janet Maslin 519\n",
      " publications : ['New York Times']\n",
      "Variety Staff 434\n",
      " publications : ['Variety']\n",
      "Jonathan Rosenbaum 414\n",
      " publications : ['Chicago Reader']\n"
     ]
    }
   ],
   "source": [
    "for ind, count in critics.groupby(by='critic').size().sort_values(ascending=False).head(5).iteritems():\n",
    "    print ind, count\n",
    "    print ' publications :', critics.groupby(by='critic').get_group(ind)['publication'].unique()"
   ]
  },
  {
   "cell_type": "markdown",
   "metadata": {
    "deletable": true,
    "editable": true
   },
   "source": [
    "**2.4** Of the critics with > 100 reviews, plot the distribution of average \"freshness\" rating per critic"
   ]
  },
  {
   "cell_type": "code",
   "execution_count": 44,
   "metadata": {
    "collapsed": false,
    "deletable": true,
    "editable": true
   },
   "outputs": [
    {
     "data": {
      "text/plain": [
       "<matplotlib.axes._subplots.AxesSubplot at 0x1242e2490>"
      ]
     },
     "execution_count": 44,
     "metadata": {},
     "output_type": "execute_result"
    },
    {
     "data": {
      "image/png": "[encoded data removed]",
      "text/plain": [
       "<matplotlib.figure.Figure at 0x1242d9b50>"
      ]
     },
     "metadata": {},
     "output_type": "display_data"
    }
   ],
   "source": [
    "critic_100 = [critic for critic,count in critics['critic'].value_counts().iteritems() if count > 100]\n",
    "critics_100 = critics[critics['critic'].isin(critic_100)]\n",
    "critics_100 = pd.get_dummies(critics_100,columns=['fresh'])\n",
    "critics_100.groupby(by='critic')['fresh_fresh'].mean().plot.hist()"
   ]
  },
  {
   "cell_type": "markdown",
   "metadata": {
    "deletable": true,
    "editable": true
   },
   "source": [
    "**2.5**\n",
    "Using the original `movies` dataframe, plot the rotten tomatoes Top Critics Rating as a function of year. Overplot the average for each year, ignoring the score=0 examples (some of these are missing data). Comment on the result -- is there a trend? What do you think it means?"
   ]
  },
  {
   "cell_type": "code",
   "execution_count": 28,
   "metadata": {
    "collapsed": false,
    "deletable": true,
    "editable": true
   },
   "outputs": [
    {
     "data": {
      "text/plain": [
       "[<matplotlib.lines.Line2D at 0x1219005d0>]"
      ]
     },
     "execution_count": 28,
     "metadata": {},
     "output_type": "execute_result"
    },
    {
     "data": {
      "image/png": "[encoded data removed]",
      "text/plain": [
       "<matplotlib.figure.Figure at 0x120723d10>"
      ]
     },
     "metadata": {},
     "output_type": "display_data"
    }
   ],
   "source": [
    "movies['rtTopCriticsRating'] = pd.to_numeric(movies['rtTopCriticsRating'],errors='coerce')\n",
    "\n",
    "mean_ratings = movies[movies['rtTopCriticsRating']>0].groupby(by='year').mean()['rtTopCriticsRating']\n",
    "\n",
    "x = movies['year'].values\n",
    "y = movies['rtTopCriticsRating'].values\n",
    "ind = np.where((y!=0)&(np.isfinite(y)))\n",
    "x = x[ind]\n",
    "y = y[ind]\n",
    "\n",
    "fig, ax = plt.subplots(1)\n",
    "ax.scatter(x,y,alpha=0.1)\n",
    "ax.plot(mean_ratings.index, mean_ratings.values)"
   ]
  },
  {
   "cell_type": "code",
   "execution_count": 52,
   "metadata": {
    "collapsed": false,
    "deletable": true,
    "editable": true
   },
   "outputs": [
    {
     "data": {
      "text/plain": [
       "<matplotlib.axes._subplots.AxesSubplot at 0x124f0bb10>"
      ]
     },
     "execution_count": 52,
     "metadata": {},
     "output_type": "execute_result"
    },
    {
     "data": {
      "image/png": "[encoded data removed]",
      "text/plain": [
       "<matplotlib.figure.Figure at 0x124fe2490>"
      ]
     },
     "metadata": {},
     "output_type": "display_data"
    }
   ],
   "source": [
    "movies['year'].plot.hist()"
   ]
  },
  {
   "cell_type": "markdown",
   "metadata": {
    "collapsed": true,
    "deletable": true,
    "editable": true
   },
   "source": [
    "<span style=\"color:green\">There is a trend of the average ratings decreasing over the years. One obvious observation from the plot is that the number of movies increases for later years. There are very few movies before 1980 in the data. This would introduce a selection bias into the data. Older movies get higher ratings. It is likely that the more popular or more critically acclaimed older movies are more likely to make it into the dataset while almost all of the new releases are in the dataset.</span>"
   ]
  },
  {
   "cell_type": "markdown",
   "metadata": {
    "deletable": true,
    "editable": true
   },
   "source": [
    "## Part 3: Sentiment Analysis\n",
    "\n",
    "You will now use a [Naive Bayes classifier](https://en.wikipedia.org/wiki/Naive_Bayes_classifier) to build a prediction model for whether a review is fresh or rotten, depending on the text of the review. See Lecture 9 for a discussion of Naive Bayes.\n",
    "\n",
    "Most models work with numerical data, so we need to convert the textual collection of reviews to something numerical. A common strategy for text classification is to represent each review as a \"bag of words\" vector -- a long vector\n",
    "of numbers encoding how many times a particular word appears in a blurb.\n",
    "\n",
    "Scikit-learn has an object called a `CountVectorizer` that turns text into a bag of words. Here's a quick tutorial:"
   ]
  },
  {
   "cell_type": "code",
   "execution_count": 21,
   "metadata": {
    "collapsed": false,
    "deletable": true,
    "editable": true
   },
   "outputs": [
    {
     "name": "stdout",
     "output_type": "stream",
     "text": [
      "Original text is\n",
      "Hop on pop\n",
      "Hop off pop\n",
      "Hop Hop hop\n",
      "\n",
      "Transformed text vector is \n",
      "[[1 0 1 1]\n",
      " [1 1 0 1]\n",
      " [3 0 0 0]]\n",
      "\n",
      "Words for each feature:\n",
      "[u'hop', u'off', u'on', u'pop']\n"
     ]
    }
   ],
   "source": [
    "from sklearn.feature_extraction.text import CountVectorizer\n",
    "\n",
    "text = ['Hop on pop', 'Hop off pop', 'Hop Hop hop']\n",
    "print \"Original text is\\n\", '\\n'.join(text)\n",
    "\n",
    "vectorizer = CountVectorizer(min_df=0)\n",
    "\n",
    "# call `fit` to build the vocabulary\n",
    "vectorizer.fit(text)\n",
    "\n",
    "# call `transform` to convert text to a bag of words\n",
    "x = vectorizer.transform(text)\n",
    "\n",
    "# CountVectorizer uses a sparse array to save memory, but it's easier in this assignment to \n",
    "# convert back to a \"normal\" numpy array\n",
    "x = x.toarray()\n",
    "\n",
    "print\n",
    "print \"Transformed text vector is \\n\", x\n",
    "\n",
    "# `get_feature_names` tracks which word is associated with each column of the transformed x\n",
    "print\n",
    "print \"Words for each feature:\"\n",
    "print vectorizer.get_feature_names()\n",
    "\n",
    "# Notice that the bag of words treatment doesn't preserve information about the *order* of words, \n",
    "# just their frequency"
   ]
  },
  {
   "cell_type": "markdown",
   "metadata": {
    "deletable": true,
    "editable": true
   },
   "source": [
    "**3.1**\n",
    "\n",
    "Using the `critics` dataframe, compute a pair of numerical X, Y arrays where:\n",
    "    \n",
    " * X is a `(nreview, nwords)` array. Each row corresponds to a bag-of-words representation for a single review. This will be the *input* to your model.\n",
    " * Y is a `nreview`-element 1/0 array, encoding whether a review is Fresh (1) or Rotten (0). This is the desired *output* from your model.\n"
   ]
  },
  {
   "cell_type": "code",
   "execution_count": 13,
   "metadata": {
    "collapsed": false
   },
   "outputs": [
    {
     "data": {
      "text/html": [
       "<div>\n",
       "<style>\n",
       "    .dataframe thead tr:only-child th {\n",
       "        text-align: right;\n",
       "    }\n",
       "\n",
       "    .dataframe thead th {\n",
       "        text-align: left;\n",
       "    }\n",
       "\n",
       "    .dataframe tbody tr th {\n",
       "        vertical-align: top;\n",
       "    }\n",
       "</style>\n",
       "<table border=\"1\" class=\"dataframe\">\n",
       "  <thead>\n",
       "    <tr style=\"text-align: right;\">\n",
       "      <th></th>\n",
       "      <th>critic</th>\n",
       "      <th>date</th>\n",
       "      <th>fresh</th>\n",
       "      <th>imdb</th>\n",
       "      <th>original_score</th>\n",
       "      <th>publication</th>\n",
       "      <th>quote</th>\n",
       "      <th>review_date</th>\n",
       "      <th>rt_id</th>\n",
       "      <th>title</th>\n",
       "    </tr>\n",
       "  </thead>\n",
       "  <tbody>\n",
       "    <tr>\n",
       "      <th>0</th>\n",
       "      <td>Derek Adams</td>\n",
       "      <td>2009-10-04</td>\n",
       "      <td>fresh</td>\n",
       "      <td>114709</td>\n",
       "      <td>5/5</td>\n",
       "      <td>Time Out</td>\n",
       "      <td>So ingenious in concept, design and execution ...</td>\n",
       "      <td>http://www.timeout.com/film/reviews/87745/toy-...</td>\n",
       "      <td>9559</td>\n",
       "      <td>Toy Story</td>\n",
       "    </tr>\n",
       "    <tr>\n",
       "      <th>1</th>\n",
       "      <td>Richard Corliss</td>\n",
       "      <td>2008-08-31</td>\n",
       "      <td>fresh</td>\n",
       "      <td>114709</td>\n",
       "      <td>NaN</td>\n",
       "      <td>TIME Magazine</td>\n",
       "      <td>The year's most inventive comedy.</td>\n",
       "      <td>http://www.time.com/time/magazine/article/0,91...</td>\n",
       "      <td>9559</td>\n",
       "      <td>Toy Story</td>\n",
       "    </tr>\n",
       "    <tr>\n",
       "      <th>2</th>\n",
       "      <td>David Ansen</td>\n",
       "      <td>2008-08-18</td>\n",
       "      <td>fresh</td>\n",
       "      <td>114709</td>\n",
       "      <td>NaN</td>\n",
       "      <td>Newsweek</td>\n",
       "      <td>A winning animated feature that has something ...</td>\n",
       "      <td>http://www.newsweek.com/id/104199</td>\n",
       "      <td>9559</td>\n",
       "      <td>Toy Story</td>\n",
       "    </tr>\n",
       "    <tr>\n",
       "      <th>3</th>\n",
       "      <td>Leonard Klady</td>\n",
       "      <td>2008-06-09</td>\n",
       "      <td>fresh</td>\n",
       "      <td>114709</td>\n",
       "      <td>NaN</td>\n",
       "      <td>Variety</td>\n",
       "      <td>The film sports a provocative and appealing st...</td>\n",
       "      <td>http://www.variety.com/review/VE1117941294.htm...</td>\n",
       "      <td>9559</td>\n",
       "      <td>Toy Story</td>\n",
       "    </tr>\n",
       "    <tr>\n",
       "      <th>4</th>\n",
       "      <td>Jonathan Rosenbaum</td>\n",
       "      <td>2008-03-10</td>\n",
       "      <td>fresh</td>\n",
       "      <td>114709</td>\n",
       "      <td>NaN</td>\n",
       "      <td>Chicago Reader</td>\n",
       "      <td>An entertaining computer-generated, hyperreali...</td>\n",
       "      <td>http://onfilm.chicagoreader.com/movies/capsule...</td>\n",
       "      <td>9559</td>\n",
       "      <td>Toy Story</td>\n",
       "    </tr>\n",
       "  </tbody>\n",
       "</table>\n",
       "</div>"
      ],
      "text/plain": [
       "               critic        date  fresh    imdb original_score     publication                                              quote                                        review_date  rt_id      title\n",
       "0         Derek Adams  2009-10-04  fresh  114709            5/5        Time Out  So ingenious in concept, design and execution ...  http://www.timeout.com/film/reviews/87745/toy-...   9559  Toy Story\n",
       "1     Richard Corliss  2008-08-31  fresh  114709            NaN   TIME Magazine                  The year's most inventive comedy.  http://www.time.com/time/magazine/article/0,91...   9559  Toy Story\n",
       "2         David Ansen  2008-08-18  fresh  114709            NaN        Newsweek  A winning animated feature that has something ...                  http://www.newsweek.com/id/104199   9559  Toy Story\n",
       "3       Leonard Klady  2008-06-09  fresh  114709            NaN         Variety  The film sports a provocative and appealing st...  http://www.variety.com/review/VE1117941294.htm...   9559  Toy Story\n",
       "4  Jonathan Rosenbaum  2008-03-10  fresh  114709            NaN  Chicago Reader  An entertaining computer-generated, hyperreali...  http://onfilm.chicagoreader.com/movies/capsule...   9559  Toy Story"
      ]
     },
     "execution_count": 13,
     "metadata": {},
     "output_type": "execute_result"
    }
   ],
   "source": [
    "critics.head()"
   ]
  },
  {
   "cell_type": "code",
   "execution_count": 24,
   "metadata": {
    "collapsed": false,
    "deletable": true,
    "editable": true
   },
   "outputs": [],
   "source": [
    "#hint: Consult the scikit-learn documentation to\n",
    "#      learn about what these classes do do\n",
    "from sklearn.model_selection import train_test_split\n",
    "from sklearn.naive_bayes import MultinomialNB\n",
    "\n",
    "\"\"\"\n",
    "Function\n",
    "--------\n",
    "make_xy\n",
    "\n",
    "Build a bag-of-words training set for the review data\n",
    "\n",
    "Parameters\n",
    "-----------\n",
    "critics : Pandas DataFrame\n",
    "    The review data from above\n",
    "    \n",
    "vectorizer : CountVectorizer object (optional)\n",
    "    A CountVectorizer object to use. If None,\n",
    "    then create and fit a new CountVectorizer.\n",
    "    Otherwise, re-fit the provided CountVectorizer\n",
    "    using the critics data\n",
    "    \n",
    "Returns\n",
    "-------\n",
    "X : numpy array (dims: nreview, nwords)\n",
    "    Bag-of-words representation for each review.\n",
    "Y : numpy array (dims: nreview)\n",
    "    1/0 array. 1 = fresh review, 0 = rotten review\n",
    "\n",
    "Examples\n",
    "--------\n",
    "X, Y = make_xy(critics)\n",
    "\"\"\"\n",
    "def make_xy(critics, vectorizer=None):\n",
    "    #Your code here \n",
    "    \n",
    "    text = critics['quote'] \n",
    "    if not vectorizer:\n",
    "        vectorizer = CountVectorizer()\n",
    "        \n",
    "    vectorizer.fit(text)\n",
    "    X = vectorizer.transform(text)\n",
    "    X = X.toarray()\n",
    "    Y = pd.get_dummies(critics,columns=['fresh'])['fresh_fresh'].values\n",
    "\n",
    "    return X,Y\n"
   ]
  },
  {
   "cell_type": "code",
   "execution_count": 25,
   "metadata": {
    "collapsed": false,
    "deletable": true,
    "editable": true
   },
   "outputs": [],
   "source": [
    "X, Y = make_xy(critics)"
   ]
  },
  {
   "cell_type": "code",
   "execution_count": 27,
   "metadata": {
    "collapsed": false
   },
   "outputs": [
    {
     "data": {
      "text/plain": [
       "((15610, 22464), (15610,))"
      ]
     },
     "execution_count": 27,
     "metadata": {},
     "output_type": "execute_result"
    }
   ],
   "source": [
    "X.shape, Y.shape"
   ]
  },
  {
   "cell_type": "markdown",
   "metadata": {
    "deletable": true,
    "editable": true
   },
   "source": [
    "\n",
    "**3.2** Next, randomly split the data into two groups: a\n",
    "training set and a validation set. \n",
    "\n",
    "Use the training set to train a `MultinomialNB` classifier,\n",
    "and print the accuracy of this model on the validation set\n",
    "\n",
    "**Hint**\n",
    "You can use [`train_test_split`](http://scikit-learn.org/stable/modules/generated/sklearn.cross_validation.train_test_split.html) to split up the training data"
   ]
  },
  {
   "cell_type": "code",
   "execution_count": 31,
   "metadata": {
    "collapsed": false,
    "deletable": true,
    "editable": true
   },
   "outputs": [
    {
     "data": {
      "text/plain": [
       "0.92112427930813578"
      ]
     },
     "execution_count": 31,
     "metadata": {},
     "output_type": "execute_result"
    }
   ],
   "source": [
    "# your code here\n",
    "X_train, X_test, Y_train, Y_test = train_test_split(X, Y, test_size=0.2)\n",
    "clf = MultinomialNB()\n",
    "clf.fit(X_train, Y_train)\n",
    "clf.score(X_train, Y_train)"
   ]
  },
  {
   "cell_type": "code",
   "execution_count": 34,
   "metadata": {
    "collapsed": false
   },
   "outputs": [
    {
     "data": {
      "text/plain": [
       "0.6069827033952595"
      ]
     },
     "execution_count": 34,
     "metadata": {},
     "output_type": "execute_result"
    }
   ],
   "source": [
    "Y_train.sum()/Y_train.size"
   ]
  },
  {
   "cell_type": "markdown",
   "metadata": {
    "deletable": true,
    "editable": true
   },
   "source": [
    "**3.3:**\n",
    "\n",
    "We say a model is **overfit** if it performs better on the training data than on the test data. Is this model overfit? If so, how much more accurate is the model on the training data compared to the test data?"
   ]
  },
  {
   "cell_type": "code",
   "execution_count": 36,
   "metadata": {
    "collapsed": false,
    "deletable": true,
    "editable": true
   },
   "outputs": [
    {
     "name": "stdout",
     "output_type": "stream",
     "text": [
      " Accuracy on training set :  0.921124279308\n",
      "Accuracy on test set :  0.773542600897\n"
     ]
    }
   ],
   "source": [
    "# Your code here. Print the accuracy on the test and training dataset\n",
    "print 'Accuracy on training set : ', clf.score(X_train, Y_train)\n",
    "print 'Accuracy on test set : ', clf.score(X_test, Y_test)"
   ]
  },
  {
   "cell_type": "markdown",
   "metadata": {
    "deletable": true,
    "editable": true
   },
   "source": [
    "*Interpret these numbers in a few sentences here* \n",
    "\n",
    "<span style=\"color:green\">The model is overfitting. The training set accuracy is quite a lot higher than the testing set (>0.1). The accuracy on the testing set is still better than the benchmark of predicting one class. Some model tuning should improve the test set accuracy. </span>"
   ]
  },
  {
   "cell_type": "markdown",
   "metadata": {
    "collapsed": true,
    "deletable": true,
    "editable": true
   },
   "source": [
    "**3.4: Model Calibration**\n",
    "\n",
    "Bayesian models like the Naive Bayes classifier have the nice property that they compute probabilities of a particular classification -- the `predict_proba` and `predict_log_proba` methods of `MultinomialNB` compute these probabilities. \n",
    "\n",
    "Being the respectable Bayesian that you are, you should always assess whether these probabilities are **calibrated** -- that is, whether a prediction made with a confidence of `x%` is correct approximately `x%` of the time. We care about calibration because it tells us whether we can trust the probabilities computed by a model. If we can trust model probabilities, we can make better decisions using them (for example, we can calculate how much we should bet or invest in a given prediction).\n",
    "\n",
    "Let's make a plot to assess model calibration. Schematically, we want something like this:\n",
    "\n",
    "<img src=\"http://i.imgur.com/ea5B6zr.png\" width=500px>\n",
    "\n",
    "In words, we want to:\n",
    "\n",
    "* Take a collection of examples, and compute the freshness probability for each using `clf.predict_proba`\n",
    "* Gather examples into bins of similar freshness probability (the diagram shows 5 groups -- you should use something closer to 20)\n",
    "* For each bin, count the number of examples in that bin, and compute the fraction of examples in the bin which are fresh\n",
    "* In the upper plot, graph the expected P(Fresh) (x axis) and observed freshness fraction (Y axis). Estimate the uncertainty in observed freshness fraction $F$ via the [equation](http://en.wikipedia.org/wiki/Binomial_proportion_confidence_interval) $\\sigma = \\sqrt{F (1-F) / N}$\n",
    "* Overplot the line y=x. This is the trend we would expect if the model is calibrated\n",
    "* In the lower plot, show the number of examples in each bin\n",
    "\n",
    "**Hints**\n",
    "\n",
    "The output of `clf.predict_proba(X)` is a `(N example, 2)` array. The first column gives the probability $P(Y=0)$ or  $P(Rotten)$, and the second gives $P(Y=1)$ or $P(Fresh)$.\n",
    "\n",
    "The above image is just a guideline -- feel free to explore other options!"
   ]
  },
  {
   "cell_type": "code",
   "execution_count": null,
   "metadata": {
    "collapsed": true,
    "deletable": true,
    "editable": true
   },
   "outputs": [],
   "source": [
    "\"\"\"\n",
    "Function\n",
    "--------\n",
    "calibration_plot\n",
    "\n",
    "Builds a plot like the one above, from a classifier and review data\n",
    "\n",
    "Inputs\n",
    "-------\n",
    "clf : Classifier object\n",
    "    A MultinomialNB classifier\n",
    "X : (Nexample, Nfeature) array\n",
    "    The bag-of-words data\n",
    "Y : (Nexample) integer array\n",
    "    1 if a review is Fresh\n",
    "\"\"\"    \n",
    "#your code here\n"
   ]
  },
  {
   "cell_type": "code",
   "execution_count": null,
   "metadata": {
    "collapsed": true
   },
   "outputs": [],
   "source": [
    "calibration_plot(clf, xtest, ytest)"
   ]
  },
  {
   "cell_type": "markdown",
   "metadata": {},
   "source": [
    "**3.5** We might say a model is *over-confident* if the freshness fraction is usually closer to 0.5 than expected (that is, there is more uncertainty than the model predicted). Likewise, a model is *under-confident* if the probabilities are usually further away from 0.5. Is this model generally over- or under-confident? "
   ]
  },
  {
   "cell_type": "markdown",
   "metadata": {},
   "source": [
    "*Your Answer Here*"
   ]
  },
  {
   "cell_type": "markdown",
   "metadata": {},
   "source": [
    "#### Cross Validation\n",
    "\n",
    "Our classifier has a few free parameters. The two most important are:\n",
    "\n",
    " 1. The `min_df` keyword in `CountVectorizer`, which will ignore words which appear in fewer than `min_df` fraction of reviews. Words that appear only once or twice can lead to overfitting, since words which occur only a few times might correlate very well with Fresh/Rotten reviews by chance in the training dataset.\n",
    " \n",
    " 2. The [`alpha` keyword](http://scikit-learn.org/stable/modules/naive_bayes.html#multinomial-naive-bayes) in the Bayesian classifier is a \"smoothing parameter\" -- increasing the value decreases the sensitivity to any single feature, and tends to pull prediction probabilities closer to 50%. \n",
    "\n",
    "As discussed in lecture and HW2, a common technique for choosing appropriate values for these parameters is **cross-validation**. Let's choose good parameters by maximizing the cross-validated log-likelihood.\n",
    "\n",
    "**3.6** Using `clf.predict_log_proba`, write a function that computes the log-likelihood of a dataset"
   ]
  },
  {
   "cell_type": "code",
   "execution_count": null,
   "metadata": {
    "collapsed": true
   },
   "outputs": [],
   "source": [
    "\"\"\"\n",
    "Function\n",
    "--------\n",
    "log_likelihood\n",
    "\n",
    "Compute the log likelihood of a dataset according to a bayesian classifier. \n",
    "The Log Likelihood is defined by\n",
    "\n",
    "L = Sum_fresh(logP(fresh)) + Sum_rotten(logP(rotten))\n",
    "\n",
    "Where Sum_fresh indicates a sum over all fresh reviews, \n",
    "and Sum_rotten indicates a sum over rotten reviews\n",
    "    \n",
    "Parameters\n",
    "----------\n",
    "clf : Bayesian classifier\n",
    "x : (nexample, nfeature) array\n",
    "    The input data\n",
    "y : (nexample) integer array\n",
    "    Whether each review is Fresh\n",
    "\"\"\"\n",
    "#your code here\n"
   ]
  },
  {
   "cell_type": "markdown",
   "metadata": {},
   "source": [
    "Here's a function to estimate the cross-validated value of a scoring function, given a classifier and data"
   ]
  },
  {
   "cell_type": "code",
   "execution_count": null,
   "metadata": {
    "collapsed": true
   },
   "outputs": [],
   "source": [
    "from sklearn.cross_validation import KFold\n",
    "\n",
    "def cv_score(clf, x, y, score_func):\n",
    "    \"\"\"\n",
    "    Uses 5-fold cross validation to estimate a score of a classifier\n",
    "    \n",
    "    Inputs\n",
    "    ------\n",
    "    clf : Classifier object\n",
    "    x : Input feature vector\n",
    "    y : Input class labels\n",
    "    score_func : Function like log_likelihood, that takes (clf, x, y) as input,\n",
    "                 and returns a score\n",
    "                 \n",
    "    Returns\n",
    "    -------\n",
    "    The average score obtained by randomly splitting (x, y) into training and \n",
    "    test sets, fitting on the training set, and evaluating score_func on the test set\n",
    "    \n",
    "    Examples\n",
    "    cv_score(clf, x, y, log_likelihood)\n",
    "    \"\"\"\n",
    "    result = 0\n",
    "    nfold = 5\n",
    "    for train, test in KFold(y.size, nfold): # split data into train/test groups, 5 times\n",
    "        clf.fit(x[train], y[train]) # fit\n",
    "        result += score_func(clf, x[test], y[test]) # evaluate score function on held-out data\n",
    "    return result / nfold # average\n",
    "\n",
    "# as a side note, this function is builtin to the newest version of sklearn. We could just write\n",
    "# sklearn.cross_validation.cross_val_score(clf, x, y, scorer=log_likelihood)."
   ]
  },
  {
   "cell_type": "code",
   "execution_count": null,
   "metadata": {
    "collapsed": true
   },
   "outputs": [],
   "source": []
  },
  {
   "cell_type": "code",
   "execution_count": null,
   "metadata": {
    "collapsed": true
   },
   "outputs": [],
   "source": []
  },
  {
   "cell_type": "code",
   "execution_count": null,
   "metadata": {
    "collapsed": true
   },
   "outputs": [],
   "source": []
  },
  {
   "cell_type": "code",
   "execution_count": null,
   "metadata": {
    "collapsed": true
   },
   "outputs": [],
   "source": []
  }
 ],
 "metadata": {
  "kernelspec": {
   "display_name": "Python [default]",
   "language": "python",
   "name": "python2"
  },
  "language_info": {
   "codemirror_mode": {
    "name": "ipython",
    "version": 2
   },
   "file_extension": ".py",
   "mimetype": "text/x-python",
   "name": "python",
   "nbconvert_exporter": "python",
   "pygments_lexer": "ipython2",
   "version": "2.7.13"
  }
 },
 "nbformat": 4,
 "nbformat_minor": 2
}
